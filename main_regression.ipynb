{
 "cells": [
  {
   "cell_type": "code",
   "execution_count": 42,
   "metadata": {},
   "outputs": [],
   "source": [
    "import pandas as pd\n",
    "import numpy as np\n",
    "import seaborn as sns\n",
    "import matplotlib.pyplot as plt\n",
    "from scipy import stats\n",
    "import sklearn\n",
    "from sklearn.model_selection import train_test_split\n",
    "from sklearn.linear_model import LinearRegression \n",
    "from sklearn.preprocessing import MinMaxScaler\n",
    "from sklearn import preprocessing\n",
    "from sklearn.ensemble import RandomForestClassifier\n",
    "from sklearn.tree import DecisionTreeClassifier\n",
    "\n",
    "from sklearn.compose import ColumnTransformer\n",
    "from sklearn.pipeline import Pipeline, make_pipeline\n",
    "from sklearn.preprocessing import OneHotEncoder\n",
    "\n",
    "from sklearn import metrics\n",
    "from sklearn.metrics import mean_squared_error, r2_score, mean_absolute_error\n"
   ]
  },
  {
   "cell_type": "code",
   "execution_count": 56,
   "metadata": {},
   "outputs": [],
   "source": [
    "df = pd.read_csv(\"final_house.csv\")\n",
    "\n",
    "df.to_csv(\"final_house.csv\")\n",
    "\n",
    "province = pd.get_dummies(df[['Province']])\n",
    "\n",
    "y = df['Price']\n",
    "X = pd.concat([df[[\n",
    "       'Living area', \n",
    "       'Surface of the land',\n",
    "       'Number of rooms', \n",
    "       'Bathrooms', \n",
    "       'Construction year',\n",
    "       'Number of facades', \n",
    "       'Swimming pool', 'Furnished', 'Open fire',\n",
    "       'Terrace', 'Terrace surface', 'Garden', 'Garden surface',\n",
    "       'Primary energy consumption', 'Kitchen values', 'Building Cond. values',\n",
    "       'Parking', 'Mansion', 'House_villa', 'Other_house','Urban_value']],province],axis=1)"
   ]
  },
  {
   "cell_type": "code",
   "execution_count": 58,
   "metadata": {},
   "outputs": [],
   "source": [
    "X_train, X_test, y_train, y_test = train_test_split(X, y, test_size=0.3, random_state=1) "
   ]
  },
  {
   "cell_type": "code",
   "execution_count": 66,
   "metadata": {},
   "outputs": [
    {
     "name": "stdout",
     "output_type": "stream",
     "text": [
      "rmse:  59845491674  €\n",
      "rmae:  144855  €\n",
      "r2:  0.4935\n",
      "score:  0.6427\n"
     ]
    }
   ],
   "source": [
    "lr = LinearRegression()\n",
    "reg = lr.fit(X_train, y_train)\n",
    "y_predicted = lr.predict(X_test)\n",
    "\n",
    "rmse = mean_squared_error(y_predicted,y_test)\n",
    "print(\"rmse: \",round(rmse),\" €\")\n",
    "\n",
    "rmae = mean_absolute_error(y_predicted,y_test)\n",
    "print(\"rmae: \",round(rmae),\" €\")\n",
    "\n",
    "r2 = r2_score(y_predicted, y_test)\n",
    "print(\"r2: \",round(r2,4))\n",
    "\n",
    "score = lr.score(X_test, y_test)\n",
    "print(\"score: \", round(score,4))"
   ]
  },
  {
   "cell_type": "code",
   "execution_count": 61,
   "metadata": {},
   "outputs": [
    {
     "name": "stdout",
     "output_type": "stream",
     "text": [
      "Linear Regression ----> R2 Score: 0.49345590049029187\n",
      "XGBoostRegressor ----> R2 Score: 0.7344613263428827\n"
     ]
    },
    {
     "name": "stderr",
     "output_type": "stream",
     "text": [
      "/Users/melike/Documents/GitHub/becode_projects/challenge-regression/venv/lib/python3.11/site-packages/sklearn/linear_model/_logistic.py:458: ConvergenceWarning: lbfgs failed to converge (status=1):\n",
      "STOP: TOTAL NO. of ITERATIONS REACHED LIMIT.\n",
      "\n",
      "Increase the number of iterations (max_iter) or scale the data as shown in:\n",
      "    https://scikit-learn.org/stable/modules/preprocessing.html\n",
      "Please also refer to the documentation for alternative solver options:\n",
      "    https://scikit-learn.org/stable/modules/linear_model.html#logistic-regression\n",
      "  n_iter_i = _check_optimize_result(\n"
     ]
    },
    {
     "name": "stdout",
     "output_type": "stream",
     "text": [
      "Logistic Regression ----> R2 Score: -1.1520041020193057\n",
      "Naive Bayes ----> R2 Score: 0.4637041435733208\n",
      "Decision Tree (CART) ----> R2 Score: 0.3310562013430661\n",
      "K-NN ----> R2 Score: -0.8642957455061278\n",
      "SVM ----> R2 Score: -58.84777434946288\n",
      "AdaBoostClassifier ----> R2 Score: -5.033015053883893\n",
      "BaggingClassifier ----> R2 Score: 0.1533615341090121\n",
      "RandomForestClassifier ----> R2 Score: 0.6001280905305775\n",
      "MLPClassifier ----> R2 Score: 0.33337304985897254\n"
     ]
    }
   ],
   "source": [
    "from sklearn.naive_bayes import GaussianNB\n",
    "from sklearn.linear_model import LogisticRegression\n",
    "from sklearn.neighbors import KNeighborsClassifier\n",
    "from sklearn.svm import SVC\n",
    "from sklearn.tree import DecisionTreeClassifier\n",
    "from sklearn.discriminant_analysis import LinearDiscriminantAnalysis\n",
    "from sklearn.ensemble import RandomForestClassifier, AdaBoostClassifier, BaggingClassifier\n",
    "from sklearn.neural_network import MLPClassifier\n",
    "from sklearn.ensemble import GradientBoostingClassifier\n",
    "from sklearn import metrics\n",
    "from sklearn.metrics import mean_squared_error, r2_score\n",
    "import xgboost\n",
    "\n",
    "\n",
    "models = []\n",
    "models.append(('Linear Regression', LinearRegression()))\n",
    "models.append((\"XGBoostRegressor\", xgboost.XGBRegressor()))\n",
    "models.append(('Logistic Regression', LogisticRegression()))\n",
    "models.append(('Naive Bayes', GaussianNB()))\n",
    "models.append(('Decision Tree (CART)',DecisionTreeClassifier())) \n",
    "models.append(('K-NN', KNeighborsClassifier()))\n",
    "models.append(('SVM', SVC()))\n",
    "# models.append(('Gradient Boosting Classifier', GradientBoostingClassifier()))\n",
    "models.append(('AdaBoostClassifier', AdaBoostClassifier()))\n",
    "models.append(('BaggingClassifier', BaggingClassifier()))\n",
    "models.append(('RandomForestClassifier', RandomForestClassifier()))\n",
    "models.append(('MLPClassifier', MLPClassifier()))\n",
    "\n",
    "for name, model in models:\n",
    "    model = model.fit(X_train, y_train)\n",
    "    y_pred = model.predict(X_test)\n",
    "    print(f\"{name} ----> R2 Score: {r2_score(y_pred,y_test)}\")"
   ]
  }
 ],
 "metadata": {
  "kernelspec": {
   "display_name": "venv",
   "language": "python",
   "name": "python3"
  },
  "language_info": {
   "codemirror_mode": {
    "name": "ipython",
    "version": 3
   },
   "file_extension": ".py",
   "mimetype": "text/x-python",
   "name": "python",
   "nbconvert_exporter": "python",
   "pygments_lexer": "ipython3",
   "version": "3.11.2"
  },
  "orig_nbformat": 4
 },
 "nbformat": 4,
 "nbformat_minor": 2
}
