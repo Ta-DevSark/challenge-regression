{
 "cells": [
  {
   "cell_type": "code",
   "execution_count": null,
   "metadata": {},
   "outputs": [],
   "source": [
    "import pandas as pd\n",
    "import pymysql\n",
    "from sklearn.linear_model import LogisticRegression\n",
    "\n",
    "# Connect to the database\n",
    "connection = pymysql.connect(\n",
    "    host='localhost',\n",
    "    user='username',\n",
    "    password='password',\n",
    "    database='database_name'\n",
    ")\n",
    "\n",
    "# Read data into a Pandas DataFrame\n",
    "df = pd.read_sql('SELECT * FROM table_name', con=connection)\n",
    "\n",
    "# Prepare the data\n",
    "X = df[['feature_1', 'feature_2']]\n",
    "y = df['target']\n",
    "\n",
    "# Create a logistic regression model\n",
    "model = LogisticRegression()\n",
    "\n",
    "# Train the model\n",
    "model.fit(X, y)\n",
    "\n",
    "# Close the connection\n",
    "connection.close()\n"
   ]
  }
 ],
 "metadata": {
  "language_info": {
   "name": "python"
  },
  "orig_nbformat": 4
 },
 "nbformat": 4,
 "nbformat_minor": 2
}
