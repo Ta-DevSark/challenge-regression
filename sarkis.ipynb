{
 "cells": [
  {
   "cell_type": "code",
   "execution_count": 2,
   "metadata": {},
   "outputs": [],
   "source": [
    "import pandas as pd\n",
    "import numpy as np\n",
    "import seaborn as sns\n",
    "import matplotlib.pyplot as plt\n",
    "from scipy import stats\n",
    "import sklearn\n",
    "from sklearn.model_selection import train_test_split\n",
    "from sklearn.linear_model import LinearRegression \n",
    "from sklearn import metrics\n",
    "from typing import List"
   ]
  },
  {
   "cell_type": "code",
   "execution_count": 3,
   "metadata": {},
   "outputs": [
    {
     "data": {
      "text/plain": [
       "Index(['Unnamed: 0', 'id', 'Zip', 'Price', 'Price of square meter',\n",
       "       'Living area', 'Number of rooms', 'Garden surface', 'Terrace surface',\n",
       "       'Open fire', 'Surface of the land', 'Number of facades',\n",
       "       'Swimming pool', 'Building Cond. values', 'Kitchen values',\n",
       "       'Primary energy consumption', 'Energy efficiency'],\n",
       "      dtype='object')"
      ]
     },
     "execution_count": 3,
     "metadata": {},
     "output_type": "execute_result"
    }
   ],
   "source": [
    "house_df = pd.read_csv(\"complete_houses_mod.csv\")\n",
    "# df = house_df.loc[:, house_df.isnull().mean() < .8]\n",
    "# df\n",
    "house_df.columns"
   ]
  },
  {
   "cell_type": "code",
   "execution_count": 4,
   "metadata": {},
   "outputs": [],
   "source": [
    "# # Remove outliers\n",
    "# def remove_outliers(house_df: pd.DataFrame, columns: List[str], n_std: int) -> pd.DataFrame:\n",
    "#     for col in columns:\n",
    "#         print('Working on column: {}'.format(col))\n",
    "        \n",
    "#         mean = house_df[col].mean()\n",
    "#         sd = house_df[col].std()\n",
    "        \n",
    "#         house_df = house_df[(house_df[col] <= mean+(n_std*sd))]\n",
    "        \n",
    "#     return house_df\n",
    "\n",
    "# no_outliers_df = remove_outliers(house_df, ['Number of rooms', 'Living area', 'Surface of the land', 'Terrace surface','Garden surface'], 3)"
   ]
  },
  {
   "cell_type": "code",
   "execution_count": 5,
   "metadata": {},
   "outputs": [
    {
     "name": "stdout",
     "output_type": "stream",
     "text": [
      "Working on column: Number of rooms\n"
     ]
    }
   ],
   "source": [
    "# Remove outliers\n",
    "def remove_outliers(house_df: pd.DataFrame, columns: List[str], n_std: int) -> pd.DataFrame:\n",
    "    for col in columns:\n",
    "        print('Working on column: {}'.format(col))\n",
    "        \n",
    "        mean = house_df[col].mean()\n",
    "        sd = house_df[col].std()\n",
    "        \n",
    "        house_df = house_df[(house_df[col] <= mean+(n_std*sd))]\n",
    "        \n",
    "    return house_df\n",
    "\n",
    "no_outliers_df = remove_outliers(house_df, ['Number of rooms'], 3)"
   ]
  },
  {
   "cell_type": "code",
   "execution_count": 6,
   "metadata": {},
   "outputs": [],
   "source": [
    "X = no_outliers_df\n",
    "\n",
    "y = no_outliers_df['Price']"
   ]
  },
  {
   "cell_type": "code",
   "execution_count": 7,
   "metadata": {},
   "outputs": [
    {
     "name": "stderr",
     "output_type": "stream",
     "text": [
      "/tmp/ipykernel_3645/642547913.py:2: SettingWithCopyWarning: \n",
      "A value is trying to be set on a copy of a slice from a DataFrame\n",
      "\n",
      "See the caveats in the documentation: https://pandas.pydata.org/pandas-docs/stable/user_guide/indexing.html#returning-a-view-versus-a-copy\n",
      "  X.drop([\"Unnamed: 0\", \"id\", \"Price of square meter\", 'Price'], axis=1, inplace=True)\n"
     ]
    },
    {
     "data": {
      "text/plain": [
       "Index(['Zip', 'Living area', 'Number of rooms', 'Garden surface',\n",
       "       'Terrace surface', 'Open fire', 'Surface of the land',\n",
       "       'Number of facades', 'Swimming pool', 'Building Cond. values',\n",
       "       'Kitchen values', 'Primary energy consumption', 'Energy efficiency'],\n",
       "      dtype='object')"
      ]
     },
     "execution_count": 7,
     "metadata": {},
     "output_type": "execute_result"
    }
   ],
   "source": [
    "try:\n",
    "    X.drop([\"Unnamed: 0\", \"id\", \"Price of square meter\", 'Price'], axis=1, inplace=True)\n",
    "except KeyError:\n",
    "    pass\n",
    "X.columns"
   ]
  },
  {
   "cell_type": "code",
   "execution_count": 8,
   "metadata": {},
   "outputs": [
    {
     "data": {
      "text/plain": [
       "0       349000\n",
       "1       625000\n",
       "2       149000\n",
       "3       335000\n",
       "4       545000\n",
       "         ...  \n",
       "9339    382230\n",
       "9340    382484\n",
       "9341    384070\n",
       "9342    406000\n",
       "9343    428500\n",
       "Name: Price, Length: 9221, dtype: int64"
      ]
     },
     "execution_count": 8,
     "metadata": {},
     "output_type": "execute_result"
    }
   ],
   "source": [
    "y"
   ]
  },
  {
   "cell_type": "code",
   "execution_count": 21,
   "metadata": {},
   "outputs": [],
   "source": [
    "X_train, X_test, y_train, y_test = train_test_split(X, y, test_size=0.2, random_state=101)"
   ]
  },
  {
   "cell_type": "code",
   "execution_count": 22,
   "metadata": {},
   "outputs": [
    {
     "data": {
      "text/plain": [
       "(7376, 13)"
      ]
     },
     "execution_count": 22,
     "metadata": {},
     "output_type": "execute_result"
    }
   ],
   "source": [
    "X_train.shape"
   ]
  },
  {
   "cell_type": "code",
   "execution_count": 23,
   "metadata": {},
   "outputs": [
    {
     "data": {
      "text/plain": [
       "(9221, 13)"
      ]
     },
     "execution_count": 23,
     "metadata": {},
     "output_type": "execute_result"
    }
   ],
   "source": [
    "X.shape"
   ]
  },
  {
   "cell_type": "code",
   "execution_count": 24,
   "metadata": {},
   "outputs": [
    {
     "data": {
      "text/html": [
       "<style>#sk-container-id-2 {color: black;background-color: white;}#sk-container-id-2 pre{padding: 0;}#sk-container-id-2 div.sk-toggleable {background-color: white;}#sk-container-id-2 label.sk-toggleable__label {cursor: pointer;display: block;width: 100%;margin-bottom: 0;padding: 0.3em;box-sizing: border-box;text-align: center;}#sk-container-id-2 label.sk-toggleable__label-arrow:before {content: \"▸\";float: left;margin-right: 0.25em;color: #696969;}#sk-container-id-2 label.sk-toggleable__label-arrow:hover:before {color: black;}#sk-container-id-2 div.sk-estimator:hover label.sk-toggleable__label-arrow:before {color: black;}#sk-container-id-2 div.sk-toggleable__content {max-height: 0;max-width: 0;overflow: hidden;text-align: left;background-color: #f0f8ff;}#sk-container-id-2 div.sk-toggleable__content pre {margin: 0.2em;color: black;border-radius: 0.25em;background-color: #f0f8ff;}#sk-container-id-2 input.sk-toggleable__control:checked~div.sk-toggleable__content {max-height: 200px;max-width: 100%;overflow: auto;}#sk-container-id-2 input.sk-toggleable__control:checked~label.sk-toggleable__label-arrow:before {content: \"▾\";}#sk-container-id-2 div.sk-estimator input.sk-toggleable__control:checked~label.sk-toggleable__label {background-color: #d4ebff;}#sk-container-id-2 div.sk-label input.sk-toggleable__control:checked~label.sk-toggleable__label {background-color: #d4ebff;}#sk-container-id-2 input.sk-hidden--visually {border: 0;clip: rect(1px 1px 1px 1px);clip: rect(1px, 1px, 1px, 1px);height: 1px;margin: -1px;overflow: hidden;padding: 0;position: absolute;width: 1px;}#sk-container-id-2 div.sk-estimator {font-family: monospace;background-color: #f0f8ff;border: 1px dotted black;border-radius: 0.25em;box-sizing: border-box;margin-bottom: 0.5em;}#sk-container-id-2 div.sk-estimator:hover {background-color: #d4ebff;}#sk-container-id-2 div.sk-parallel-item::after {content: \"\";width: 100%;border-bottom: 1px solid gray;flex-grow: 1;}#sk-container-id-2 div.sk-label:hover label.sk-toggleable__label {background-color: #d4ebff;}#sk-container-id-2 div.sk-serial::before {content: \"\";position: absolute;border-left: 1px solid gray;box-sizing: border-box;top: 0;bottom: 0;left: 50%;z-index: 0;}#sk-container-id-2 div.sk-serial {display: flex;flex-direction: column;align-items: center;background-color: white;padding-right: 0.2em;padding-left: 0.2em;position: relative;}#sk-container-id-2 div.sk-item {position: relative;z-index: 1;}#sk-container-id-2 div.sk-parallel {display: flex;align-items: stretch;justify-content: center;background-color: white;position: relative;}#sk-container-id-2 div.sk-item::before, #sk-container-id-2 div.sk-parallel-item::before {content: \"\";position: absolute;border-left: 1px solid gray;box-sizing: border-box;top: 0;bottom: 0;left: 50%;z-index: -1;}#sk-container-id-2 div.sk-parallel-item {display: flex;flex-direction: column;z-index: 1;position: relative;background-color: white;}#sk-container-id-2 div.sk-parallel-item:first-child::after {align-self: flex-end;width: 50%;}#sk-container-id-2 div.sk-parallel-item:last-child::after {align-self: flex-start;width: 50%;}#sk-container-id-2 div.sk-parallel-item:only-child::after {width: 0;}#sk-container-id-2 div.sk-dashed-wrapped {border: 1px dashed gray;margin: 0 0.4em 0.5em 0.4em;box-sizing: border-box;padding-bottom: 0.4em;background-color: white;}#sk-container-id-2 div.sk-label label {font-family: monospace;font-weight: bold;display: inline-block;line-height: 1.2em;}#sk-container-id-2 div.sk-label-container {text-align: center;}#sk-container-id-2 div.sk-container {/* jupyter's `normalize.less` sets `[hidden] { display: none; }` but bootstrap.min.css set `[hidden] { display: none !important; }` so we also need the `!important` here to be able to override the default hidden behavior on the sphinx rendered scikit-learn.org. See: https://github.com/scikit-learn/scikit-learn/issues/21755 */display: inline-block !important;position: relative;}#sk-container-id-2 div.sk-text-repr-fallback {display: none;}</style><div id=\"sk-container-id-2\" class=\"sk-top-container\"><div class=\"sk-text-repr-fallback\"><pre>LinearRegression()</pre><b>In a Jupyter environment, please rerun this cell to show the HTML representation or trust the notebook. <br />On GitHub, the HTML representation is unable to render, please try loading this page with nbviewer.org.</b></div><div class=\"sk-container\" hidden><div class=\"sk-item\"><div class=\"sk-estimator sk-toggleable\"><input class=\"sk-toggleable__control sk-hidden--visually\" id=\"sk-estimator-id-2\" type=\"checkbox\" checked><label for=\"sk-estimator-id-2\" class=\"sk-toggleable__label sk-toggleable__label-arrow\">LinearRegression</label><div class=\"sk-toggleable__content\"><pre>LinearRegression()</pre></div></div></div></div></div>"
      ],
      "text/plain": [
       "LinearRegression()"
      ]
     },
     "execution_count": 24,
     "metadata": {},
     "output_type": "execute_result"
    }
   ],
   "source": [
    "lm = LinearRegression() \n",
    "\n",
    "lm.fit(X_train,y_train)"
   ]
  },
  {
   "cell_type": "code",
   "execution_count": 25,
   "metadata": {},
   "outputs": [
    {
     "name": "stdout",
     "output_type": "stream",
     "text": [
      "-294369.4421557434\n"
     ]
    },
    {
     "data": {
      "text/html": [
       "<div>\n",
       "<style scoped>\n",
       "    .dataframe tbody tr th:only-of-type {\n",
       "        vertical-align: middle;\n",
       "    }\n",
       "\n",
       "    .dataframe tbody tr th {\n",
       "        vertical-align: top;\n",
       "    }\n",
       "\n",
       "    .dataframe thead th {\n",
       "        text-align: right;\n",
       "    }\n",
       "</style>\n",
       "<table border=\"1\" class=\"dataframe\">\n",
       "  <thead>\n",
       "    <tr style=\"text-align: right;\">\n",
       "      <th></th>\n",
       "      <th>Coefficient</th>\n",
       "    </tr>\n",
       "  </thead>\n",
       "  <tbody>\n",
       "    <tr>\n",
       "      <th>Zip</th>\n",
       "      <td>-22.205056</td>\n",
       "    </tr>\n",
       "    <tr>\n",
       "      <th>Living area</th>\n",
       "      <td>4.703995</td>\n",
       "    </tr>\n",
       "    <tr>\n",
       "      <th>Number of rooms</th>\n",
       "      <td>95782.196907</td>\n",
       "    </tr>\n",
       "    <tr>\n",
       "      <th>Garden surface</th>\n",
       "      <td>7.692319</td>\n",
       "    </tr>\n",
       "    <tr>\n",
       "      <th>Terrace surface</th>\n",
       "      <td>98.915459</td>\n",
       "    </tr>\n",
       "    <tr>\n",
       "      <th>Open fire</th>\n",
       "      <td>71471.747566</td>\n",
       "    </tr>\n",
       "    <tr>\n",
       "      <th>Surface of the land</th>\n",
       "      <td>8.827698</td>\n",
       "    </tr>\n",
       "    <tr>\n",
       "      <th>Number of facades</th>\n",
       "      <td>49488.147118</td>\n",
       "    </tr>\n",
       "    <tr>\n",
       "      <th>Swimming pool</th>\n",
       "      <td>263409.283226</td>\n",
       "    </tr>\n",
       "    <tr>\n",
       "      <th>Building Cond. values</th>\n",
       "      <td>47364.149303</td>\n",
       "    </tr>\n",
       "    <tr>\n",
       "      <th>Kitchen values</th>\n",
       "      <td>51679.068674</td>\n",
       "    </tr>\n",
       "    <tr>\n",
       "      <th>Primary energy consumption</th>\n",
       "      <td>87.662706</td>\n",
       "    </tr>\n",
       "    <tr>\n",
       "      <th>Energy efficiency</th>\n",
       "      <td>28545.488484</td>\n",
       "    </tr>\n",
       "  </tbody>\n",
       "</table>\n",
       "</div>"
      ],
      "text/plain": [
       "                              Coefficient\n",
       "Zip                            -22.205056\n",
       "Living area                      4.703995\n",
       "Number of rooms              95782.196907\n",
       "Garden surface                   7.692319\n",
       "Terrace surface                 98.915459\n",
       "Open fire                    71471.747566\n",
       "Surface of the land              8.827698\n",
       "Number of facades            49488.147118\n",
       "Swimming pool               263409.283226\n",
       "Building Cond. values        47364.149303\n",
       "Kitchen values               51679.068674\n",
       "Primary energy consumption      87.662706\n",
       "Energy efficiency            28545.488484"
      ]
     },
     "execution_count": 25,
     "metadata": {},
     "output_type": "execute_result"
    }
   ],
   "source": [
    "# Now let’s evaluate the model by checking out its coefficients \n",
    "# and how we can interpret them.\n",
    "print(lm.intercept_)\n",
    "\n",
    "coeff_df = pd.DataFrame(lm.coef_,X.columns,columns = ['Coefficient'])\n",
    "\n",
    "coeff_df"
   ]
  },
  {
   "cell_type": "code",
   "execution_count": 14,
   "metadata": {},
   "outputs": [],
   "source": [
    "\n",
    "# Expected kind of output : \n",
    "\n",
    "# Avg. Area Income : 21.528\n",
    "# Avg. Area House Age : 164883.28\n",
    "# Avg. Area Number of Rooms : 122368.67\n",
    "# Avg. Area Number of Bedrooms : 2233.80\n",
    "# Area Population : 15.15\n",
    "\n",
    "# What does coefficient of data says:\n",
    "\n",
    "#     Holding all other features fixed, a 1 unit increase in Avg. Area Income \n",
    "#     is associated with an increase of $21.52 .\n",
    "#     Holding all other features fixed, a 1 unit increase in Avg. Area House Age \n",
    "#     is associated with an increase of $164883.28 .\n",
    "#     Holding all other features fixed, a 1 unit increase in Avg. Area Number of Rooms \n",
    "#     is associated with an increase of $122368.67 .\n",
    "#     Holding all other features fixed, a 1 unit increase in Avg. Area Number of Bedrooms \n",
    "#     is associated with an increase of $2233.80 .\n",
    "#     Holding all other features fixed, a 1 unit increase in Area Population \n",
    "#     is associated with an increase of $15.15 .\n"
   ]
  },
  {
   "cell_type": "code",
   "execution_count": 26,
   "metadata": {},
   "outputs": [],
   "source": [
    "predictions = lm.predict(X_test)"
   ]
  },
  {
   "cell_type": "code",
   "execution_count": 27,
   "metadata": {},
   "outputs": [
    {
     "data": {
      "text/plain": [
       "<matplotlib.collections.PathCollection at 0x7fcb1d0a2a10>"
      ]
     },
     "execution_count": 27,
     "metadata": {},
     "output_type": "execute_result"
    },
    {
     "data": {
      "image/png": "[encoded data removed]",
      "text/plain": [
       "<Figure size 640x480 with 1 Axes>"
      ]
     },
     "metadata": {},
     "output_type": "display_data"
    }
   ],
   "source": [
    "plt.scatter(y_test,predictions)\n",
    "# Good prediction would appear as a line."
   ]
  },
  {
   "cell_type": "code",
   "execution_count": 28,
   "metadata": {},
   "outputs": [
    {
     "data": {
      "text/plain": [
       "<seaborn.axisgrid.FacetGrid at 0x7fcb1d0d8990>"
      ]
     },
     "execution_count": 28,
     "metadata": {},
     "output_type": "execute_result"
    },
    {
     "data": {
      "image/png": "[encoded data removed]",
      "text/plain": [
       "<Figure size 500x500 with 1 Axes>"
      ]
     },
     "metadata": {},
     "output_type": "display_data"
    }
   ],
   "source": [
    "sns.displot((y_test-predictions), kde=True)\n",
    "# If the data is displayed in a bell shape, we did well"
   ]
  },
  {
   "cell_type": "code",
   "execution_count": 32,
   "metadata": {},
   "outputs": [
    {
     "name": "stdout",
     "output_type": "stream",
     "text": [
      "true  (1845,)\n",
      "pred  (1845,)\n"
     ]
    }
   ],
   "source": [
    "print(\"true \", y_test.shape)\n",
    "print(\"pred \", predictions.shape)"
   ]
  },
  {
   "cell_type": "code",
   "execution_count": 30,
   "metadata": {},
   "outputs": [
    {
     "name": "stdout",
     "output_type": "stream",
     "text": [
      "MAE: 192638.99040949883\n"
     ]
    }
   ],
   "source": [
    "print('MAE:', metrics.mean_absolute_error(predictions, y_test))"
   ]
  },
  {
   "cell_type": "code",
   "execution_count": 29,
   "metadata": {},
   "outputs": [
    {
     "name": "stdout",
     "output_type": "stream",
     "text": [
      "r2 score  -0.5170677531032872\n"
     ]
    }
   ],
   "source": [
    "print(\"r2 score \", metrics.r2_score(predictions, y_test))"
   ]
  },
  {
   "cell_type": "code",
   "execution_count": 31,
   "metadata": {},
   "outputs": [
    {
     "name": "stdout",
     "output_type": "stream",
     "text": [
      "MSE: 111942721736.20967\n"
     ]
    }
   ],
   "source": [
    "print('MSE:', metrics.mean_squared_error(predictions, y_test)) "
   ]
  },
  {
   "cell_type": "code",
   "execution_count": 20,
   "metadata": {},
   "outputs": [
    {
     "name": "stdout",
     "output_type": "stream",
     "text": [
      "RMSE: 612338.8734383113\n"
     ]
    }
   ],
   "source": [
    "print('RMSE:', np.sqrt(metrics.mean_squared_error(y_test, predictions))) "
   ]
  }
 ],
 "metadata": {
  "kernelspec": {
   "display_name": "regenv",
   "language": "python",
   "name": "python3"
  },
  "language_info": {
   "codemirror_mode": {
    "name": "ipython",
    "version": 3
   },
   "file_extension": ".py",
   "mimetype": "text/x-python",
   "name": "python",
   "nbconvert_exporter": "python",
   "pygments_lexer": "ipython3",
   "version": "3.11.3"
  },
  "orig_nbformat": 4
 },
 "nbformat": 4,
 "nbformat_minor": 2
}
