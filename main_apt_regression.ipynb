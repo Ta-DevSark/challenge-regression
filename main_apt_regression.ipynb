{
 "cells": [
  {
   "cell_type": "code",
   "execution_count": 14,
   "metadata": {},
   "outputs": [],
   "source": [
    "import pandas as pd\n",
    "import numpy as np\n",
    "import seaborn as sns\n",
    "import matplotlib.pyplot as plt\n",
    "from scipy import stats\n",
    "import sklearn\n",
    "from sklearn.model_selection import train_test_split\n",
    "from sklearn.linear_model import LinearRegression \n",
    "from sklearn.preprocessing import MinMaxScaler\n",
    "from sklearn import preprocessing\n",
    "from sklearn.ensemble import RandomForestClassifier\n",
    "from sklearn.tree import DecisionTreeClassifier\n",
    "\n",
    "from sklearn.compose import ColumnTransformer\n",
    "from sklearn.pipeline import Pipeline, make_pipeline\n",
    "from sklearn.preprocessing import OneHotEncoder\n",
    "\n",
    "from sklearn import metrics\n",
    "from sklearn.metrics import mean_squared_error, r2_score, mean_absolute_error\n"
   ]
  },
  {
   "cell_type": "code",
   "execution_count": 15,
   "metadata": {},
   "outputs": [
    {
     "data": {
      "text/plain": [
       "Index(['Unnamed: 0', 'id', 'Price', 'Type of property', 'Subtype of property',\n",
       "       'Locality', 'Surroundings type', 'Energy class', 'Heating type',\n",
       "       'Province', 'Zip', 'Living area', 'Number of rooms', 'Bathrooms',\n",
       "       'Construction year', 'Number of facades', 'Swimming pool', 'Furnished',\n",
       "       'Open fire', 'Terrace', 'Terrace surface', 'Garden', 'Garden surface',\n",
       "       'Primary energy consumption', 'Kitchen values', 'Building Cond. values',\n",
       "       'Parking', 'Urban_value', 'Normal_apt', 'Big_apt'],\n",
       "      dtype='object')"
      ]
     },
     "execution_count": 15,
     "metadata": {},
     "output_type": "execute_result"
    }
   ],
   "source": [
    "df = pd.read_csv(\"./utils/final_apartment.csv\")\n",
    "df.columns"
   ]
  },
  {
   "cell_type": "code",
   "execution_count": 22,
   "metadata": {},
   "outputs": [],
   "source": [
    "province = pd.get_dummies(df[['Province']])\n",
    "\n",
    "y = df['Price']\n",
    "X = pd.concat([df[[\n",
    "       'Living area', \n",
    "       'Number of rooms', \n",
    "       'Bathrooms', \n",
    "       'Construction year',\n",
    "       # 'Number of facades', \n",
    "       # 'Swimming pool', \n",
    "       'Furnished', \n",
    "       'Open fire',\n",
    "       # 'Terrace', 'Terrace surface', 'Garden', 'Garden surface',\n",
    "       'Primary energy consumption', 'Kitchen values', 'Building Cond. values',\n",
    "       'Parking', 'Urban_value', 'Normal_apt', 'Big_apt']],province],axis=1)"
   ]
  },
  {
   "cell_type": "code",
   "execution_count": 23,
   "metadata": {},
   "outputs": [],
   "source": [
    "X_train, X_test, y_train, y_test = train_test_split(X, y, test_size=0.3, random_state=1) "
   ]
  },
  {
   "cell_type": "code",
   "execution_count": 24,
   "metadata": {},
   "outputs": [
    {
     "name": "stdout",
     "output_type": "stream",
     "text": [
      "rmse:  48393743942  €\n",
      "rmae:  131099  €\n",
      "r2:  0.0576\n",
      "score:  0.4935\n"
     ]
    }
   ],
   "source": [
    "lr = LinearRegression()\n",
    "reg = lr.fit(X_train, y_train)\n",
    "y_predicted = lr.predict(X_test)\n",
    "\n",
    "rmse = mean_squared_error(y_predicted,y_test)\n",
    "print(\"rmse: \",round(rmse),\" €\")\n",
    "\n",
    "rmae = mean_absolute_error(y_predicted,y_test)\n",
    "print(\"rmae: \",round(rmae),\" €\")\n",
    "\n",
    "r2 = r2_score(y_predicted, y_test)\n",
    "print(\"r2: \",round(r2,4))\n",
    "\n",
    "score = lr.score(X_test, y_test)\n",
    "print(\"score: \", round(score,4))"
   ]
  },
  {
   "cell_type": "code",
   "execution_count": 13,
   "metadata": {},
   "outputs": [
    {
     "name": "stdout",
     "output_type": "stream",
     "text": [
      "Linear Regression ----> R2 Score: 0.05825849050354048\n",
      "Linear Regression ----> Abs Error: 131265.9543674274\n",
      "______________________________\n",
      "XGBoostRegressor ----> R2 Score: 0.6922057930574032\n",
      "XGBoostRegressor ----> Abs Error: 89921.31795202005\n",
      "______________________________\n",
      "Logistic Regression ----> R2 Score: 0.0\n",
      "Logistic Regression ----> Abs Error: 178330.72868525898\n",
      "______________________________\n",
      "Naive Bayes ----> R2 Score: -29.437765960238302\n",
      "Naive Bayes ----> Abs Error: 219327.57729083666\n",
      "______________________________\n",
      "Decision Tree (CART) ----> R2 Score: 0.5088179005390182\n",
      "Decision Tree (CART) ----> Abs Error: 121175.30677290837\n",
      "______________________________\n",
      "K-NN ----> R2 Score: -0.2087343430601285\n",
      "K-NN ----> Abs Error: 169207.81593625498\n",
      "______________________________\n",
      "SVM ----> R2 Score: -81.86496484985621\n",
      "SVM ----> Abs Error: 192824.85219123506\n",
      "______________________________\n",
      "AdaBoostClassifier ----> R2 Score: -2.0283857483458845\n",
      "AdaBoostClassifier ----> Abs Error: 163332.9924302789\n",
      "______________________________\n",
      "BaggingClassifier ----> R2 Score: 0.5287686739065953\n",
      "BaggingClassifier ----> Abs Error: 109167.86693227092\n",
      "______________________________\n",
      "RandomForestClassifier ----> R2 Score: 0.5982787994452915\n",
      "RandomForestClassifier ----> Abs Error: 100979.07569721116\n",
      "______________________________\n",
      "MLPClassifier ----> R2 Score: -1.1249346501931594\n",
      "MLPClassifier ----> Abs Error: 161839.4250996016\n",
      "______________________________\n"
     ]
    },
    {
     "name": "stderr",
     "output_type": "stream",
     "text": [
      "/Users/melike/Documents/GitHub/becode_projects/challenge-regression/venv/lib/python3.11/site-packages/sklearn/neural_network/_multilayer_perceptron.py:693: UserWarning: Training interrupted by user.\n",
      "  warnings.warn(\"Training interrupted by user.\")\n"
     ]
    }
   ],
   "source": [
    "from sklearn.naive_bayes import GaussianNB\n",
    "from sklearn.linear_model import LogisticRegression\n",
    "from sklearn.neighbors import KNeighborsClassifier\n",
    "from sklearn.svm import SVC\n",
    "from sklearn.tree import DecisionTreeClassifier\n",
    "from sklearn.discriminant_analysis import LinearDiscriminantAnalysis\n",
    "from sklearn.ensemble import RandomForestClassifier, AdaBoostClassifier, BaggingClassifier\n",
    "from sklearn.neural_network import MLPClassifier\n",
    "from sklearn.ensemble import GradientBoostingClassifier\n",
    "from sklearn import metrics\n",
    "from sklearn.metrics import mean_squared_error, r2_score\n",
    "import xgboost\n",
    "\n",
    "\n",
    "models = []\n",
    "models.append(('Linear Regression', LinearRegression()))\n",
    "models.append((\"XGBoostRegressor\", xgboost.XGBRegressor()))\n",
    "models.append(('Logistic Regression', LogisticRegression()))\n",
    "models.append(('Naive Bayes', GaussianNB()))\n",
    "models.append(('Decision Tree (CART)',DecisionTreeClassifier())) \n",
    "models.append(('K-NN', KNeighborsClassifier()))\n",
    "models.append(('SVM', SVC()))\n",
    "# models.append(('Gradient Boosting Classifier', GradientBoostingClassifier()))\n",
    "models.append(('AdaBoostClassifier', AdaBoostClassifier()))\n",
    "models.append(('BaggingClassifier', BaggingClassifier()))\n",
    "models.append(('RandomForestClassifier', RandomForestClassifier()))\n",
    "models.append(('MLPClassifier', MLPClassifier()))\n",
    "\n",
    "for name, model in models:\n",
    "    model = model.fit(X_train, y_train)\n",
    "    y_pred = model.predict(X_test)\n",
    "    print(f\"{name} ----> R2 Score: {r2_score(y_pred,y_test)}\")\n",
    "    print(f\"{name} ----> Abs Error: {mean_absolute_error(y_pred,y_test)}\")\n",
    "    print(30*\"_\")"
   ]
  }
 ],
 "metadata": {
  "kernelspec": {
   "display_name": "venv",
   "language": "python",
   "name": "python3"
  },
  "language_info": {
   "codemirror_mode": {
    "name": "ipython",
    "version": 3
   },
   "file_extension": ".py",
   "mimetype": "text/x-python",
   "name": "python",
   "nbconvert_exporter": "python",
   "pygments_lexer": "ipython3",
   "version": "3.11.2"
  },
  "orig_nbformat": 4
 },
 "nbformat": 4,
 "nbformat_minor": 2
}
